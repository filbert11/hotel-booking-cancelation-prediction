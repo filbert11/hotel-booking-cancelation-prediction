{
 "cells": [
  {
   "cell_type": "markdown",
   "metadata": {},
   "source": [
    "# ISSS610-Applied Machine Learning\n",
    "## Business Problem\n",
    "The data is originally from the article Hotel Booking Demand Datasets, written by Nuno Antonio, Ana Almeida, and Luis Nunes for Data in Brief, Volume 22, February 2019.\n",
    "\n",
    "# Data Set\n",
    "This dataset contains 119390 observations for a City Hotel and a Resort Hotel. Each observation represents a hotel booking between the 1st of July 2015 and 31st of August 2017, including booking that effectively arrived and booking that were canceled.\n",
    "\n",
    "https://www.sciencedirect.com/science/article/pii/S2352340918315191\n",
    "\n",
    "Done By \n",
    "- Anna Choo Xin Yi\n",
    "- Filbert\n",
    "- Wesley Djingga\n",
    "- Xie Jianlong\n",
    "- Zhang Jieyuan\n"
   ]
  },
  {
   "cell_type": "markdown",
   "metadata": {},
   "source": [
    "# Import Libraries"
   ]
  },
  {
   "cell_type": "code",
   "execution_count": 1,
   "metadata": {},
   "outputs": [],
   "source": [
    "#Import all here\n",
    "from matplotlib import pyplot\n",
    "from numpy import mean\n",
    "from numpy import std\n",
    "import numpy as np\n",
    "from sklearn import linear_model\n",
    "from sklearn import metrics\n",
    "from sklearn.metrics import accuracy_score, confusion_matrix, classification_report\n",
    "from sklearn.metrics import confusion_matrix,accuracy_score,f1_score\n",
    "from sklearn.metrics import roc_auc_score\n",
    "from sklearn.metrics import roc_curve\n",
    "from sklearn.model_selection import cross_val_score\n",
    "from sklearn.model_selection import GridSearchCV\n",
    "from sklearn.model_selection import KFold\n",
    "import matplotlib.pyplot as plt\n",
    "import pandas as pd\n",
    "import dill as pickle\n",
    "from sklearn.metrics import classification_report\n",
    "from sklearn.metrics import confusion_matrix\n",
    "from sklearn.metrics import log_loss\n",
    "import warnings\n",
    "warnings.filterwarnings(\"ignore\")\n",
    "%matplotlib inline"
   ]
  },
  {
   "cell_type": "markdown",
   "metadata": {},
   "source": [
    "## Data Retrival"
   ]
  },
  {
   "cell_type": "code",
   "execution_count": 2,
   "metadata": {},
   "outputs": [],
   "source": [
    "x_under_train,x_under_test,y_under_train,y_under_test,x_train,x_test,y_train,y_test = pickle.load(open(\"2.out.x_y_train_test\", 'rb'))"
   ]
  },
  {
   "cell_type": "markdown",
   "metadata": {},
   "source": [
    "## Log Regression"
   ]
  },
  {
   "cell_type": "markdown",
   "metadata": {},
   "source": [
    "### Feature Engineering"
   ]
  },
  {
   "cell_type": "markdown",
   "metadata": {},
   "source": [
    "### Hot encoder"
   ]
  },
  {
   "cell_type": "code",
   "execution_count": 3,
   "metadata": {},
   "outputs": [],
   "source": [
    "#Take from Forest\n",
    "enc = pickle.load(open(\"3a.out.enc\", 'rb'))"
   ]
  },
  {
   "cell_type": "markdown",
   "metadata": {},
   "source": [
    "### Create my Log Transform function"
   ]
  },
  {
   "cell_type": "code",
   "execution_count": 4,
   "metadata": {},
   "outputs": [],
   "source": [
    "forest_transform = pickle.load(open(\"3a.out.forest_transform\", 'rb'))\n",
    "log_transform = pickle.load(open(\"3a.out.forest_transform\", 'rb'))\n",
    "\n",
    "def log_transform(input_x):\n",
    "    scaler = pickle.load(open(\"3b.out.scaler\", 'rb'))\n",
    "    return scaler.transform(forest_transform(input_x))\n",
    "pickle.dump(log_transform,open(\"3c.out.log_transform\",'wb'))"
   ]
  },
  {
   "cell_type": "markdown",
   "metadata": {},
   "source": [
    "## Test Default Result"
   ]
  },
  {
   "cell_type": "markdown",
   "metadata": {},
   "source": [
    "### Without Down Sampling"
   ]
  },
  {
   "cell_type": "code",
   "execution_count": 5,
   "metadata": {},
   "outputs": [
    {
     "name": "stdout",
     "output_type": "stream",
     "text": [
      " \n",
      "Confusion_matrix:\n",
      "[[12973  1438]\n",
      " [ 2742  5957]]\n",
      "Accuracy: 0.8191259195153613\n",
      "Classification Report:\n",
      "              precision    recall  f1-score   support\n",
      "\n",
      "           0       0.83      0.90      0.86     14411\n",
      "           1       0.81      0.68      0.74      8699\n",
      "\n",
      "    accuracy                           0.82     23110\n",
      "   macro avg       0.82      0.79      0.80     23110\n",
      "weighted avg       0.82      0.82      0.82     23110\n",
      "\n"
     ]
    }
   ],
   "source": [
    "#10.8s\n",
    "# Instantiate and fit the knnClassifier\n",
    "log=linear_model.LogisticRegression(random_state= 2021)\n",
    "log.fit(log_transform(x_train), y_train)\n",
    "predict_LOG = log.predict(log_transform(x_test))\n",
    "\n",
    "report = \"\"\" \n",
    "Confusion_matrix:\n",
    "{}\n",
    "Accuracy: {}\n",
    "Classification Report:\n",
    "{}\"\"\".format(\n",
    "metrics.confusion_matrix(y_test, predict_LOG),\n",
    "metrics.accuracy_score(y_test, predict_LOG),\n",
    "metrics.classification_report(y_test, predict_LOG))\n",
    "print(report)"
   ]
  },
  {
   "cell_type": "markdown",
   "metadata": {},
   "source": [
    "### With Down Sampling"
   ]
  },
  {
   "cell_type": "code",
   "execution_count": 6,
   "metadata": {},
   "outputs": [
    {
     "name": "stdout",
     "output_type": "stream",
     "text": [
      "Confusion Matrix\n",
      "[[7173 1497]\n",
      " [1703 6997]]\n",
      "Accuracy 0.8157743235463443\n",
      "Classification Report\n",
      "              precision    recall  f1-score   support\n",
      "\n",
      "           0       0.81      0.83      0.82      8670\n",
      "           1       0.82      0.80      0.81      8700\n",
      "\n",
      "    accuracy                           0.82     17370\n",
      "   macro avg       0.82      0.82      0.82     17370\n",
      "weighted avg       0.82      0.82      0.82     17370\n",
      "\n"
     ]
    }
   ],
   "source": [
    "#8.1s\n",
    "# Instantiate and fit the logClassifier\n",
    "log = linear_model.LogisticRegression()\n",
    "log.fit(log_transform(x_under_train), y_under_train)\n",
    "\n",
    "# Make predictions for the test set\n",
    "y_under_pred_test_log = log.predict(log_transform(x_under_test))\n",
    "\n",
    "# # View confusion matrix for test_log data and predictions\n",
    "print(\"Confusion Matrix\")\n",
    "print(confusion_matrix(y_under_test, y_under_pred_test_log))\n",
    "\n",
    "# # View accuracy score\n",
    "print(\"Accuracy\", accuracy_score(y_under_test, y_under_pred_test_log))\n",
    "\n",
    "# View the classification report for test_log data and predictions\n",
    "print(\"Classification Report\")\n",
    "print(classification_report(y_under_test, y_under_pred_test_log))"
   ]
  },
  {
   "cell_type": "markdown",
   "metadata": {
    "tags": []
   },
   "source": [
    "## Hyper Parameter Tuning - Using no downsampling"
   ]
  },
  {
   "cell_type": "markdown",
   "metadata": {},
   "source": [
    "### Grid Search CV"
   ]
  },
  {
   "cell_type": "code",
   "execution_count": 7,
   "metadata": {},
   "outputs": [
    {
     "data": {
      "text/plain": [
       "{'penalty': 'l1', 'solver': 'liblinear'}"
      ]
     },
     "execution_count": 7,
     "metadata": {},
     "output_type": "execute_result"
    }
   ],
   "source": [
    "log=linear_model.LogisticRegression(random_state= 2021)\n",
    "\n",
    "param_grid = [\n",
    "    {'penalty': ['l1'], 'solver': ['liblinear', 'saga']},\n",
    "    {'penalty': ['l2'], 'solver': ['newton-cg', 'lbfgs', 'liblinear', 'sag', 'saga']},\n",
    "    {'penalty': ['elasticnet'], 'solver': ['saga']},\n",
    "    {'penalty': ['none'], 'solver': ['newton-cg', 'lbfgs', 'saga']}\n",
    "]\n",
    "\n",
    "CV_log = GridSearchCV(estimator=log, param_grid=param_grid, cv= 5)\n",
    "CV_log.fit(log_transform(x_train), y_train)\n",
    "CV_log.best_params_"
   ]
  },
  {
   "cell_type": "markdown",
   "metadata": {},
   "source": [
    "### Visualize Each Parameter"
   ]
  },
  {
   "cell_type": "code",
   "execution_count": 11,
   "metadata": {},
   "outputs": [],
   "source": [
    "#Intialise  C\n",
    "C = [0.001, 0.01, 0.1, 1, 10, 100, 1000]"
   ]
  },
  {
   "cell_type": "code",
   "execution_count": 12,
   "metadata": {},
   "outputs": [],
   "source": [
    "#23min\n",
    "logit = [0 for j in range(len(C))]\n",
    "inv_log_likelihood_train = [0.0 for j in range(len(C))]\n",
    "inv_log_likelihood_test = [0.0 for j in range(len(C))]\n",
    "\n",
    "for i in range(len(C)):\n",
    "    logit[i] = linear_model.LogisticRegression(max_iter=1000, penalty='l1', solver='liblinear', C=C[i])\n",
    "    # calculate inv_log_likelihood_train and test\n",
    "    logit[i].fit(log_transform(x_train), y_train)\n",
    "    inv_log_likelihood_train[i] = log_loss(y_train, logit[i].predict_proba(log_transform(x_train)))\n",
    "    inv_log_likelihood_test[i] = log_loss(y_test, logit[i].predict_proba(log_transform(x_test)))"
   ]
  },
  {
   "cell_type": "code",
   "execution_count": 16,
   "metadata": {},
   "outputs": [
    {
     "data": {
      "text/plain": [
       "Text(0.5, 1.0, 'Log Loss VS C')"
      ]
     },
     "execution_count": 16,
     "metadata": {},
     "output_type": "execute_result"
    },
    {
     "data": {
      "image/png": "[encoded data removed]",
      "text/plain": [
       "<Figure size 432x288 with 1 Axes>"
      ]
     },
     "metadata": {
      "needs_background": "light"
     },
     "output_type": "display_data"
    }
   ],
   "source": [
    "f1_C3 = pd.DataFrame(data={'test': pd.Series(inv_log_likelihood_test),'training': pd.Series(inv_log_likelihood_train), 'C':C})\n",
    "f1_C3[['test', 'training']].plot()\n",
    "plt.xlabel('C')\n",
    "plt.xticks(ticks=np.arange(7), labels=C)\n",
    "plt.ylabel('Log Loss')\n",
    "plt.title('Log Loss VS C')"
   ]
  },
  {
   "cell_type": "code",
   "execution_count": 17,
   "metadata": {},
   "outputs": [
    {
     "data": {
      "text/plain": [
       "Text(0.5, 1.0, 'F1 Score VS C')"
      ]
     },
     "execution_count": 17,
     "metadata": {},
     "output_type": "execute_result"
    },
    {
     "data": {
      "text/plain": [
       "<Figure size 360x360 with 0 Axes>"
      ]
     },
     "metadata": {},
     "output_type": "display_data"
    },
    {
     "data": {
      "image/png": "[encoded data removed]",
      "text/plain": [
       "<Figure size 432x288 with 1 Axes>"
      ]
     },
     "metadata": {
      "needs_background": "light"
     },
     "output_type": "display_data"
    }
   ],
   "source": [
    "#27min\n",
    "f1sTrain3 = []\n",
    "f1sTest3 = []\n",
    "for c in C:\n",
    "    log = linear_model.LogisticRegression(random_state= 2021,max_iter = 1000, penalty='l1', solver='liblinear', C=c)\n",
    "    log.fit(log_transform(x_train), y_train)\n",
    "    y_pred = log.predict(log_transform(x_train))\n",
    "    f1sTrain3.append(f1_score(y_train, y_pred))\n",
    "    y_pred = log.predict(log_transform(x_test))\n",
    "    f1sTest3.append(f1_score(y_test, y_pred))\n",
    "plt.figure(figsize=(5,5))\n",
    "f1_C2 = pd.DataFrame(data={'test': pd.Series(f1sTest3),'training': pd.Series(f1sTrain3)})   \n",
    "f1_C2.plot()\n",
    "plt.xlabel('C')\n",
    "plt.xticks(ticks=np.arange(7), labels=C)\n",
    "plt.ylabel('f1_score')\n",
    "plt.title('F1 Score VS C')\n",
    "\n",
    "#Best C - 0.1"
   ]
  },
  {
   "cell_type": "markdown",
   "metadata": {},
   "source": [
    "## Final Result -Without Downsampling with Hyperparameter Tuned"
   ]
  },
  {
   "cell_type": "code",
   "execution_count": 5,
   "metadata": {},
   "outputs": [
    {
     "name": "stdout",
     "output_type": "stream",
     "text": [
      " \n",
      "Confusion_matrix:\n",
      "[[12985  1426]\n",
      " [ 2755  5944]]\n",
      "Accuracy: 0.8190826482042406\n",
      "Classification Report:\n",
      "              precision    recall  f1-score   support\n",
      "\n",
      "           0       0.82      0.90      0.86     14411\n",
      "           1       0.81      0.68      0.74      8699\n",
      "\n",
      "    accuracy                           0.82     23110\n",
      "   macro avg       0.82      0.79      0.80     23110\n",
      "weighted avg       0.82      0.82      0.82     23110\n",
      "\n"
     ]
    }
   ],
   "source": [
    "#4m 54s\n",
    "log=linear_model.LogisticRegression(random_state= 2021,max_iter = 1000, penalty='l1', solver='liblinear', C=0.1)\n",
    "log.fit(log_transform(x_train), y_train)\n",
    "predict_LOG = log.predict(log_transform(x_test))\n",
    "\n",
    "report = \"\"\" \n",
    "Confusion_matrix:\n",
    "{}\n",
    "Accuracy: {}\n",
    "Classification Report:\n",
    "{}\"\"\".format(\n",
    "metrics.confusion_matrix(y_test, predict_LOG),\n",
    "metrics.accuracy_score(y_test, predict_LOG),\n",
    "metrics.classification_report(y_test, predict_LOG))\n",
    "print(report)"
   ]
  },
  {
   "cell_type": "markdown",
   "metadata": {},
   "source": [
    "## Performance Measure"
   ]
  },
  {
   "cell_type": "code",
   "execution_count": 20,
   "metadata": {},
   "outputs": [
    {
     "name": "stdout",
     "output_type": "stream",
     "text": [
      "Accuracy: 0.822 (0.001)\n"
     ]
    }
   ],
   "source": [
    "# 6m 6.7s\n",
    "# prepare the cross-validation procedure\n",
    "cv = KFold(n_splits=2, random_state=2021, shuffle=True)\n",
    "# create model\n",
    "model = linear_model.LogisticRegression(random_state= 2021,max_iter = 1000, penalty='l1', solver='liblinear', C=10)\n",
    "# evaluate model\n",
    "scores = cross_val_score(model, log_transform(x_train), y_train, scoring='accuracy', cv=cv, n_jobs=-1)\n",
    "# report performance\n",
    "print('Accuracy: %.3f (%.3f)' % (mean(scores), std(scores)))"
   ]
  },
  {
   "cell_type": "markdown",
   "metadata": {},
   "source": [
    "### ROC"
   ]
  },
  {
   "cell_type": "code",
   "execution_count": 21,
   "metadata": {},
   "outputs": [
    {
     "name": "stdout",
     "output_type": "stream",
     "text": [
      "No Skill: ROC AUC=0.500\n",
      "Logistic: ROC AUC=0.900\n"
     ]
    },
    {
     "data": {
      "image/png": "[encoded data removed]",
      "text/plain": [
       "<Figure size 432x288 with 1 Axes>"
      ]
     },
     "metadata": {
      "needs_background": "light"
     },
     "output_type": "display_data"
    }
   ],
   "source": [
    "# generate a no skill prediction (majority class)\n",
    "ns_probs = [0 for _ in range(len(y_test))]\n",
    "# fit a model\n",
    "# predict probabilities\n",
    "lr_probs = log.predict_proba(log_transform(x_test))\n",
    "# keep probabilities for the positive outcome only\n",
    "lr_probs = lr_probs[:, 1]\n",
    "# calculate scores\n",
    "ns_auc = roc_auc_score(y_test, ns_probs)\n",
    "lr_auc = roc_auc_score(y_test, lr_probs)\n",
    "# summarize scores\n",
    "print('No Skill: ROC AUC=%.3f' % (ns_auc))\n",
    "print('Logistic: ROC AUC=%.3f' % (lr_auc))\n",
    "# calculate roc curves\n",
    "ns_fpr, ns_tpr, _ = roc_curve(y_test, ns_probs)\n",
    "lr_fpr, lr_tpr, _ = roc_curve(y_test, lr_probs)\n",
    "# plot the roc curve for the model\n",
    "pyplot.plot(ns_fpr, ns_tpr, linestyle='--', label='No Skill')\n",
    "pyplot.plot(lr_fpr, lr_tpr, marker='.', label='Logistic')\n",
    "# axis labels\n",
    "pyplot.xlabel('False Positive Rate')\n",
    "pyplot.ylabel('True Positive Rate')\n",
    "# show the legend\n",
    "pyplot.legend()\n",
    "# show the plot\n",
    "pyplot.show()"
   ]
  },
  {
   "cell_type": "markdown",
   "metadata": {},
   "source": [
    "## Export"
   ]
  },
  {
   "cell_type": "code",
   "execution_count": 6,
   "metadata": {},
   "outputs": [],
   "source": [
    "pickle.dump(log, open('3c.out.log', 'wb'))"
   ]
  },
  {
   "cell_type": "markdown",
   "metadata": {},
   "source": [
    "## Feature Importance"
   ]
  },
  {
   "cell_type": "code",
   "execution_count": 5,
   "metadata": {},
   "outputs": [],
   "source": [
    "log = pickle.load(open('3c.out.log', 'rb'))"
   ]
  },
  {
   "cell_type": "code",
   "execution_count": 6,
   "metadata": {},
   "outputs": [],
   "source": [
    "categorical = ['ArrivalDateWeekNumber', 'Meal', 'Country', 'MarketSegment', 'DistributionChannel', 'ReservedRoomType', 'AssignedRoomType', 'DepositType', 'Agent', 'Company', 'CustomerType', 'Hotel']\n",
    "numerical = ['LeadTime', 'StaysInWeekendNights', 'StaysInWeekNights', 'Adults', 'Children', 'Babies', 'IsRepeatedGuest', 'PreviousCancellations', 'PreviousBookingsNotCanceled', 'BookingChanges', 'DaysInWaitingList', 'ADR', 'TotalOfSpecialRequests']\n",
    "colnames = enc.get_feature_names(categorical)\n",
    "columnfeature = colnames.tolist() + numerical"
   ]
  },
  {
   "cell_type": "code",
   "execution_count": 7,
   "metadata": {},
   "outputs": [
    {
     "data": {
      "text/html": [
       "<div>\n",
       "<style scoped>\n",
       "    .dataframe tbody tr th:only-of-type {\n",
       "        vertical-align: middle;\n",
       "    }\n",
       "\n",
       "    .dataframe tbody tr th {\n",
       "        vertical-align: top;\n",
       "    }\n",
       "\n",
       "    .dataframe thead th {\n",
       "        text-align: right;\n",
       "    }\n",
       "</style>\n",
       "<table border=\"1\" class=\"dataframe\">\n",
       "  <thead>\n",
       "    <tr style=\"text-align: right;\">\n",
       "      <th></th>\n",
       "      <th>ArrivalDateWeekNumber_1</th>\n",
       "      <th>ArrivalDateWeekNumber_2</th>\n",
       "      <th>ArrivalDateWeekNumber_3</th>\n",
       "      <th>ArrivalDateWeekNumber_4</th>\n",
       "      <th>ArrivalDateWeekNumber_5</th>\n",
       "      <th>ArrivalDateWeekNumber_6</th>\n",
       "      <th>ArrivalDateWeekNumber_7</th>\n",
       "      <th>ArrivalDateWeekNumber_8</th>\n",
       "      <th>ArrivalDateWeekNumber_9</th>\n",
       "      <th>ArrivalDateWeekNumber_10</th>\n",
       "      <th>...</th>\n",
       "      <th>Adults</th>\n",
       "      <th>Children</th>\n",
       "      <th>Babies</th>\n",
       "      <th>IsRepeatedGuest</th>\n",
       "      <th>PreviousCancellations</th>\n",
       "      <th>PreviousBookingsNotCanceled</th>\n",
       "      <th>BookingChanges</th>\n",
       "      <th>DaysInWaitingList</th>\n",
       "      <th>ADR</th>\n",
       "      <th>TotalOfSpecialRequests</th>\n",
       "    </tr>\n",
       "  </thead>\n",
       "  <tbody>\n",
       "    <tr>\n",
       "      <th>0</th>\n",
       "      <td>-0.094198</td>\n",
       "      <td>-0.100209</td>\n",
       "      <td>-0.102927</td>\n",
       "      <td>-0.112437</td>\n",
       "      <td>-0.107602</td>\n",
       "      <td>-0.112388</td>\n",
       "      <td>-0.134438</td>\n",
       "      <td>-0.138713</td>\n",
       "      <td>-0.133266</td>\n",
       "      <td>-0.135146</td>\n",
       "      <td>...</td>\n",
       "      <td>0.285013</td>\n",
       "      <td>-0.262088</td>\n",
       "      <td>-0.086301</td>\n",
       "      <td>-0.170358</td>\n",
       "      <td>-0.101986</td>\n",
       "      <td>-0.085841</td>\n",
       "      <td>-0.341623</td>\n",
       "      <td>-0.133851</td>\n",
       "      <td>1.612440</td>\n",
       "      <td>-0.721487</td>\n",
       "    </tr>\n",
       "    <tr>\n",
       "      <th>1</th>\n",
       "      <td>-0.094198</td>\n",
       "      <td>-0.100209</td>\n",
       "      <td>-0.102927</td>\n",
       "      <td>-0.112437</td>\n",
       "      <td>-0.107602</td>\n",
       "      <td>-0.112388</td>\n",
       "      <td>-0.134438</td>\n",
       "      <td>-0.138713</td>\n",
       "      <td>-0.133266</td>\n",
       "      <td>-0.135146</td>\n",
       "      <td>...</td>\n",
       "      <td>0.285013</td>\n",
       "      <td>-0.262088</td>\n",
       "      <td>-0.086301</td>\n",
       "      <td>-0.170358</td>\n",
       "      <td>-0.101986</td>\n",
       "      <td>-0.085841</td>\n",
       "      <td>1.257680</td>\n",
       "      <td>-0.133851</td>\n",
       "      <td>2.194730</td>\n",
       "      <td>-0.721487</td>\n",
       "    </tr>\n",
       "    <tr>\n",
       "      <th>2</th>\n",
       "      <td>-0.094198</td>\n",
       "      <td>-0.100209</td>\n",
       "      <td>-0.102927</td>\n",
       "      <td>-0.112437</td>\n",
       "      <td>-0.107602</td>\n",
       "      <td>-0.112388</td>\n",
       "      <td>-0.134438</td>\n",
       "      <td>-0.138713</td>\n",
       "      <td>-0.133266</td>\n",
       "      <td>-0.135146</td>\n",
       "      <td>...</td>\n",
       "      <td>0.285013</td>\n",
       "      <td>-0.262088</td>\n",
       "      <td>-0.086301</td>\n",
       "      <td>-0.170358</td>\n",
       "      <td>-0.101986</td>\n",
       "      <td>-0.085841</td>\n",
       "      <td>-0.341623</td>\n",
       "      <td>-0.133851</td>\n",
       "      <td>0.042594</td>\n",
       "      <td>0.547182</td>\n",
       "    </tr>\n",
       "    <tr>\n",
       "      <th>3</th>\n",
       "      <td>-0.094198</td>\n",
       "      <td>-0.100209</td>\n",
       "      <td>-0.102927</td>\n",
       "      <td>-0.112437</td>\n",
       "      <td>-0.107602</td>\n",
       "      <td>-0.112388</td>\n",
       "      <td>-0.134438</td>\n",
       "      <td>-0.138713</td>\n",
       "      <td>-0.133266</td>\n",
       "      <td>-0.135146</td>\n",
       "      <td>...</td>\n",
       "      <td>-1.794183</td>\n",
       "      <td>-0.262088</td>\n",
       "      <td>-0.086301</td>\n",
       "      <td>-0.170358</td>\n",
       "      <td>1.030820</td>\n",
       "      <td>-0.085841</td>\n",
       "      <td>-0.341623</td>\n",
       "      <td>2.440745</td>\n",
       "      <td>0.133677</td>\n",
       "      <td>-0.721487</td>\n",
       "    </tr>\n",
       "    <tr>\n",
       "      <th>4</th>\n",
       "      <td>-0.094198</td>\n",
       "      <td>-0.100209</td>\n",
       "      <td>-0.102927</td>\n",
       "      <td>-0.112437</td>\n",
       "      <td>-0.107602</td>\n",
       "      <td>-0.112388</td>\n",
       "      <td>-0.134438</td>\n",
       "      <td>-0.138713</td>\n",
       "      <td>-0.133266</td>\n",
       "      <td>-0.135146</td>\n",
       "      <td>...</td>\n",
       "      <td>0.285013</td>\n",
       "      <td>-0.262088</td>\n",
       "      <td>-0.086301</td>\n",
       "      <td>-0.170358</td>\n",
       "      <td>-0.101986</td>\n",
       "      <td>-0.085841</td>\n",
       "      <td>-0.341623</td>\n",
       "      <td>-0.133851</td>\n",
       "      <td>1.569577</td>\n",
       "      <td>-0.721487</td>\n",
       "    </tr>\n",
       "    <tr>\n",
       "      <th>...</th>\n",
       "      <td>...</td>\n",
       "      <td>...</td>\n",
       "      <td>...</td>\n",
       "      <td>...</td>\n",
       "      <td>...</td>\n",
       "      <td>...</td>\n",
       "      <td>...</td>\n",
       "      <td>...</td>\n",
       "      <td>...</td>\n",
       "      <td>...</td>\n",
       "      <td>...</td>\n",
       "      <td>...</td>\n",
       "      <td>...</td>\n",
       "      <td>...</td>\n",
       "      <td>...</td>\n",
       "      <td>...</td>\n",
       "      <td>...</td>\n",
       "      <td>...</td>\n",
       "      <td>...</td>\n",
       "      <td>...</td>\n",
       "      <td>...</td>\n",
       "    </tr>\n",
       "    <tr>\n",
       "      <th>23105</th>\n",
       "      <td>-0.094198</td>\n",
       "      <td>-0.100209</td>\n",
       "      <td>-0.102927</td>\n",
       "      <td>-0.112437</td>\n",
       "      <td>-0.107602</td>\n",
       "      <td>-0.112388</td>\n",
       "      <td>-0.134438</td>\n",
       "      <td>-0.138713</td>\n",
       "      <td>-0.133266</td>\n",
       "      <td>-0.135146</td>\n",
       "      <td>...</td>\n",
       "      <td>0.285013</td>\n",
       "      <td>-0.262088</td>\n",
       "      <td>-0.086301</td>\n",
       "      <td>-0.170358</td>\n",
       "      <td>-0.101986</td>\n",
       "      <td>-0.085841</td>\n",
       "      <td>-0.341623</td>\n",
       "      <td>-0.133851</td>\n",
       "      <td>0.380138</td>\n",
       "      <td>-0.721487</td>\n",
       "    </tr>\n",
       "    <tr>\n",
       "      <th>23106</th>\n",
       "      <td>-0.094198</td>\n",
       "      <td>-0.100209</td>\n",
       "      <td>-0.102927</td>\n",
       "      <td>-0.112437</td>\n",
       "      <td>-0.107602</td>\n",
       "      <td>-0.112388</td>\n",
       "      <td>-0.134438</td>\n",
       "      <td>-0.138713</td>\n",
       "      <td>-0.133266</td>\n",
       "      <td>-0.135146</td>\n",
       "      <td>...</td>\n",
       "      <td>0.285013</td>\n",
       "      <td>-0.262088</td>\n",
       "      <td>-0.086301</td>\n",
       "      <td>-0.170358</td>\n",
       "      <td>-0.101986</td>\n",
       "      <td>-0.085841</td>\n",
       "      <td>-0.341623</td>\n",
       "      <td>-0.133851</td>\n",
       "      <td>-0.877882</td>\n",
       "      <td>-0.721487</td>\n",
       "    </tr>\n",
       "    <tr>\n",
       "      <th>23107</th>\n",
       "      <td>-0.094198</td>\n",
       "      <td>-0.100209</td>\n",
       "      <td>-0.102927</td>\n",
       "      <td>-0.112437</td>\n",
       "      <td>-0.107602</td>\n",
       "      <td>-0.112388</td>\n",
       "      <td>-0.134438</td>\n",
       "      <td>-0.138713</td>\n",
       "      <td>-0.133266</td>\n",
       "      <td>-0.135146</td>\n",
       "      <td>...</td>\n",
       "      <td>0.285013</td>\n",
       "      <td>-0.262088</td>\n",
       "      <td>-0.086301</td>\n",
       "      <td>-0.170358</td>\n",
       "      <td>-0.101986</td>\n",
       "      <td>-0.085841</td>\n",
       "      <td>-0.341623</td>\n",
       "      <td>-0.133851</td>\n",
       "      <td>0.776617</td>\n",
       "      <td>-0.721487</td>\n",
       "    </tr>\n",
       "    <tr>\n",
       "      <th>23108</th>\n",
       "      <td>-0.094198</td>\n",
       "      <td>-0.100209</td>\n",
       "      <td>-0.102927</td>\n",
       "      <td>-0.112437</td>\n",
       "      <td>-0.107602</td>\n",
       "      <td>-0.112388</td>\n",
       "      <td>-0.134438</td>\n",
       "      <td>-0.138713</td>\n",
       "      <td>-0.133266</td>\n",
       "      <td>-0.135146</td>\n",
       "      <td>...</td>\n",
       "      <td>0.285013</td>\n",
       "      <td>-0.262088</td>\n",
       "      <td>-0.086301</td>\n",
       "      <td>-0.170358</td>\n",
       "      <td>-0.101986</td>\n",
       "      <td>-0.085841</td>\n",
       "      <td>-0.341623</td>\n",
       "      <td>-0.133851</td>\n",
       "      <td>-0.895027</td>\n",
       "      <td>-0.721487</td>\n",
       "    </tr>\n",
       "    <tr>\n",
       "      <th>23109</th>\n",
       "      <td>-0.094198</td>\n",
       "      <td>-0.100209</td>\n",
       "      <td>-0.102927</td>\n",
       "      <td>-0.112437</td>\n",
       "      <td>-0.107602</td>\n",
       "      <td>-0.112388</td>\n",
       "      <td>-0.134438</td>\n",
       "      <td>-0.138713</td>\n",
       "      <td>-0.133266</td>\n",
       "      <td>-0.135146</td>\n",
       "      <td>...</td>\n",
       "      <td>-1.794183</td>\n",
       "      <td>-0.262088</td>\n",
       "      <td>-0.086301</td>\n",
       "      <td>-0.170358</td>\n",
       "      <td>-0.101986</td>\n",
       "      <td>-0.085841</td>\n",
       "      <td>2.856982</td>\n",
       "      <td>-0.133851</td>\n",
       "      <td>-0.830733</td>\n",
       "      <td>-0.721487</td>\n",
       "    </tr>\n",
       "  </tbody>\n",
       "</table>\n",
       "<p>23110 rows × 924 columns</p>\n",
       "</div>"
      ],
      "text/plain": [
       "       ArrivalDateWeekNumber_1  ArrivalDateWeekNumber_2  \\\n",
       "0                    -0.094198                -0.100209   \n",
       "1                    -0.094198                -0.100209   \n",
       "2                    -0.094198                -0.100209   \n",
       "3                    -0.094198                -0.100209   \n",
       "4                    -0.094198                -0.100209   \n",
       "...                        ...                      ...   \n",
       "23105                -0.094198                -0.100209   \n",
       "23106                -0.094198                -0.100209   \n",
       "23107                -0.094198                -0.100209   \n",
       "23108                -0.094198                -0.100209   \n",
       "23109                -0.094198                -0.100209   \n",
       "\n",
       "       ArrivalDateWeekNumber_3  ArrivalDateWeekNumber_4  \\\n",
       "0                    -0.102927                -0.112437   \n",
       "1                    -0.102927                -0.112437   \n",
       "2                    -0.102927                -0.112437   \n",
       "3                    -0.102927                -0.112437   \n",
       "4                    -0.102927                -0.112437   \n",
       "...                        ...                      ...   \n",
       "23105                -0.102927                -0.112437   \n",
       "23106                -0.102927                -0.112437   \n",
       "23107                -0.102927                -0.112437   \n",
       "23108                -0.102927                -0.112437   \n",
       "23109                -0.102927                -0.112437   \n",
       "\n",
       "       ArrivalDateWeekNumber_5  ArrivalDateWeekNumber_6  \\\n",
       "0                    -0.107602                -0.112388   \n",
       "1                    -0.107602                -0.112388   \n",
       "2                    -0.107602                -0.112388   \n",
       "3                    -0.107602                -0.112388   \n",
       "4                    -0.107602                -0.112388   \n",
       "...                        ...                      ...   \n",
       "23105                -0.107602                -0.112388   \n",
       "23106                -0.107602                -0.112388   \n",
       "23107                -0.107602                -0.112388   \n",
       "23108                -0.107602                -0.112388   \n",
       "23109                -0.107602                -0.112388   \n",
       "\n",
       "       ArrivalDateWeekNumber_7  ArrivalDateWeekNumber_8  \\\n",
       "0                    -0.134438                -0.138713   \n",
       "1                    -0.134438                -0.138713   \n",
       "2                    -0.134438                -0.138713   \n",
       "3                    -0.134438                -0.138713   \n",
       "4                    -0.134438                -0.138713   \n",
       "...                        ...                      ...   \n",
       "23105                -0.134438                -0.138713   \n",
       "23106                -0.134438                -0.138713   \n",
       "23107                -0.134438                -0.138713   \n",
       "23108                -0.134438                -0.138713   \n",
       "23109                -0.134438                -0.138713   \n",
       "\n",
       "       ArrivalDateWeekNumber_9  ArrivalDateWeekNumber_10  ...    Adults  \\\n",
       "0                    -0.133266                 -0.135146  ...  0.285013   \n",
       "1                    -0.133266                 -0.135146  ...  0.285013   \n",
       "2                    -0.133266                 -0.135146  ...  0.285013   \n",
       "3                    -0.133266                 -0.135146  ... -1.794183   \n",
       "4                    -0.133266                 -0.135146  ...  0.285013   \n",
       "...                        ...                       ...  ...       ...   \n",
       "23105                -0.133266                 -0.135146  ...  0.285013   \n",
       "23106                -0.133266                 -0.135146  ...  0.285013   \n",
       "23107                -0.133266                 -0.135146  ...  0.285013   \n",
       "23108                -0.133266                 -0.135146  ...  0.285013   \n",
       "23109                -0.133266                 -0.135146  ... -1.794183   \n",
       "\n",
       "       Children    Babies  IsRepeatedGuest  PreviousCancellations  \\\n",
       "0     -0.262088 -0.086301        -0.170358              -0.101986   \n",
       "1     -0.262088 -0.086301        -0.170358              -0.101986   \n",
       "2     -0.262088 -0.086301        -0.170358              -0.101986   \n",
       "3     -0.262088 -0.086301        -0.170358               1.030820   \n",
       "4     -0.262088 -0.086301        -0.170358              -0.101986   \n",
       "...         ...       ...              ...                    ...   \n",
       "23105 -0.262088 -0.086301        -0.170358              -0.101986   \n",
       "23106 -0.262088 -0.086301        -0.170358              -0.101986   \n",
       "23107 -0.262088 -0.086301        -0.170358              -0.101986   \n",
       "23108 -0.262088 -0.086301        -0.170358              -0.101986   \n",
       "23109 -0.262088 -0.086301        -0.170358              -0.101986   \n",
       "\n",
       "       PreviousBookingsNotCanceled  BookingChanges  DaysInWaitingList  \\\n",
       "0                        -0.085841       -0.341623          -0.133851   \n",
       "1                        -0.085841        1.257680          -0.133851   \n",
       "2                        -0.085841       -0.341623          -0.133851   \n",
       "3                        -0.085841       -0.341623           2.440745   \n",
       "4                        -0.085841       -0.341623          -0.133851   \n",
       "...                            ...             ...                ...   \n",
       "23105                    -0.085841       -0.341623          -0.133851   \n",
       "23106                    -0.085841       -0.341623          -0.133851   \n",
       "23107                    -0.085841       -0.341623          -0.133851   \n",
       "23108                    -0.085841       -0.341623          -0.133851   \n",
       "23109                    -0.085841        2.856982          -0.133851   \n",
       "\n",
       "            ADR  TotalOfSpecialRequests  \n",
       "0      1.612440               -0.721487  \n",
       "1      2.194730               -0.721487  \n",
       "2      0.042594                0.547182  \n",
       "3      0.133677               -0.721487  \n",
       "4      1.569577               -0.721487  \n",
       "...         ...                     ...  \n",
       "23105  0.380138               -0.721487  \n",
       "23106 -0.877882               -0.721487  \n",
       "23107  0.776617               -0.721487  \n",
       "23108 -0.895027               -0.721487  \n",
       "23109 -0.830733               -0.721487  \n",
       "\n",
       "[23110 rows x 924 columns]"
      ]
     },
     "execution_count": 7,
     "metadata": {},
     "output_type": "execute_result"
    }
   ],
   "source": [
    "pd.DataFrame(log_transform(x_test), columns=columnfeature)"
   ]
  },
  {
   "cell_type": "code",
   "execution_count": 11,
   "metadata": {},
   "outputs": [
    {
     "data": {
      "text/html": [
       "<div>\n",
       "<style scoped>\n",
       "    .dataframe tbody tr th:only-of-type {\n",
       "        vertical-align: middle;\n",
       "    }\n",
       "\n",
       "    .dataframe tbody tr th {\n",
       "        vertical-align: top;\n",
       "    }\n",
       "\n",
       "    .dataframe thead th {\n",
       "        text-align: right;\n",
       "    }\n",
       "</style>\n",
       "<table border=\"1\" class=\"dataframe\">\n",
       "  <thead>\n",
       "    <tr style=\"text-align: right;\">\n",
       "      <th></th>\n",
       "      <th>feature</th>\n",
       "      <th>importance</th>\n",
       "    </tr>\n",
       "  </thead>\n",
       "  <tbody>\n",
       "    <tr>\n",
       "      <th>918</th>\n",
       "      <td>PreviousCancellations</td>\n",
       "      <td>1.570557</td>\n",
       "    </tr>\n",
       "    <tr>\n",
       "      <th>263</th>\n",
       "      <td>DepositType_Non Refund</td>\n",
       "      <td>1.140669</td>\n",
       "    </tr>\n",
       "    <tr>\n",
       "      <th>189</th>\n",
       "      <td>Country_PRT</td>\n",
       "      <td>0.932690</td>\n",
       "    </tr>\n",
       "    <tr>\n",
       "      <th>573</th>\n",
       "      <td>Agent_9</td>\n",
       "      <td>0.698099</td>\n",
       "    </tr>\n",
       "    <tr>\n",
       "      <th>251</th>\n",
       "      <td>AssignedRoomType_A</td>\n",
       "      <td>0.694252</td>\n",
       "    </tr>\n",
       "    <tr>\n",
       "      <th>...</th>\n",
       "      <td>...</td>\n",
       "      <td>...</td>\n",
       "    </tr>\n",
       "    <tr>\n",
       "      <th>257</th>\n",
       "      <td>AssignedRoomType_G</td>\n",
       "      <td>-0.329375</td>\n",
       "    </tr>\n",
       "    <tr>\n",
       "      <th>262</th>\n",
       "      <td>DepositType_No Deposit</td>\n",
       "      <td>-0.353963</td>\n",
       "    </tr>\n",
       "    <tr>\n",
       "      <th>919</th>\n",
       "      <td>PreviousBookingsNotCanceled</td>\n",
       "      <td>-0.502691</td>\n",
       "    </tr>\n",
       "    <tr>\n",
       "      <th>242</th>\n",
       "      <td>ReservedRoomType_A</td>\n",
       "      <td>-0.632718</td>\n",
       "    </tr>\n",
       "    <tr>\n",
       "      <th>923</th>\n",
       "      <td>TotalOfSpecialRequests</td>\n",
       "      <td>-0.658787</td>\n",
       "    </tr>\n",
       "  </tbody>\n",
       "</table>\n",
       "<p>924 rows × 2 columns</p>\n",
       "</div>"
      ],
      "text/plain": [
       "                               feature  importance\n",
       "918              PreviousCancellations    1.570557\n",
       "263        DepositType_Non Refund         1.140669\n",
       "189                        Country_PRT    0.932690\n",
       "573                            Agent_9    0.698099\n",
       "251  AssignedRoomType_A                   0.694252\n",
       "..                                 ...         ...\n",
       "257  AssignedRoomType_G                  -0.329375\n",
       "262        DepositType_No Deposit        -0.353963\n",
       "919        PreviousBookingsNotCanceled   -0.502691\n",
       "242  ReservedRoomType_A                  -0.632718\n",
       "923             TotalOfSpecialRequests   -0.658787\n",
       "\n",
       "[924 rows x 2 columns]"
      ]
     },
     "execution_count": 11,
     "metadata": {},
     "output_type": "execute_result"
    }
   ],
   "source": [
    "# top 10 important features for class 1 prediciton\n",
    "feature_importance = pd.DataFrame(columnfeature, columns = [\"feature\"])\n",
    "feature_importance[\"importance\"] = log.coef_[0]\n",
    "feature_importance = feature_importance.sort_values(by = [\"importance\"], ascending=False)\n",
    "feature_importance"
   ]
  },
  {
   "cell_type": "code",
   "execution_count": 12,
   "metadata": {},
   "outputs": [
    {
     "data": {
      "text/plain": [
       "Text(0.5, 1.0, 'Feature Importance from Logistic Regression Model for Class 1 Prediction')"
      ]
     },
     "execution_count": 12,
     "metadata": {},
     "output_type": "execute_result"
    },
    {
     "data": {
      "image/png": "[encoded data removed]",
      "text/plain": [
       "<Figure size 864x576 with 1 Axes>"
      ]
     },
     "metadata": {
      "needs_background": "light"
     },
     "output_type": "display_data"
    }
   ],
   "source": [
    "import seaborn as sns\n",
    "plt.figure(figsize=(12, 8))\n",
    "sns.barplot(data=feature_importance.head(10), y='feature', x='importance', orient='h')\n",
    "plt.title('Feature Importance from Logistic Regression Model for Class 1 Prediction')"
   ]
  },
  {
   "cell_type": "code",
   "execution_count": 14,
   "metadata": {
    "tags": []
   },
   "outputs": [
    {
     "data": {
      "text/plain": [
       "Text(0.5, 1.0, 'Feature Importance from Logistic Regression Model for Class 0 Prediction')"
      ]
     },
     "execution_count": 14,
     "metadata": {},
     "output_type": "execute_result"
    },
    {
     "data": {
      "image/png": "[encoded data removed]",
      "text/plain": [
       "<Figure size 864x576 with 1 Axes>"
      ]
     },
     "metadata": {
      "needs_background": "light"
     },
     "output_type": "display_data"
    }
   ],
   "source": [
    "# top 10 important features for class 0 prediciton\n",
    "import seaborn as sns\n",
    "plt.figure(figsize=(12, 8))\n",
    "sns.barplot(data=feature_importance.iloc[-1:-10:-1,:], y='feature', x='importance', orient='h')\n",
    "plt.title('Feature Importance from Logistic Regression Model for Class 0 Prediction')"
   ]
  }
 ],
 "metadata": {
  "kernelspec": {
   "display_name": "Python 3 (ipykernel)",
   "language": "python",
   "name": "python3"
  },
  "language_info": {
   "codemirror_mode": {
    "name": "ipython",
    "version": 3
   },
   "file_extension": ".py",
   "mimetype": "text/x-python",
   "name": "python",
   "nbconvert_exporter": "python",
   "pygments_lexer": "ipython3",
   "version": "3.8.5"
  }
 },
 "nbformat": 4,
 "nbformat_minor": 4
}
