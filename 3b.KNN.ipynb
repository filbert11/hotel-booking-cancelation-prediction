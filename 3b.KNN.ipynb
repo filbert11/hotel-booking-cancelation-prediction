{
 "cells": [
  {
   "cell_type": "markdown",
   "metadata": {},
   "source": [
    "# ISSS610-Applied Machine Learning\n",
    "## Business Problem\n",
    "The data is originally from the article Hotel Booking Demand Datasets, written by Nuno Antonio, Ana Almeida, and Luis Nunes for Data in Brief, Volume 22, February 2019.\n",
    "\n",
    "# Data Set\n",
    "This dataset contains 119390 observations for a City Hotel and a Resort Hotel. Each observation represents a hotel booking between the 1st of July 2015 and 31st of August 2017, including booking that effectively arrived and booking that were canceled.\n",
    "https://www.kaggle.com/mojtaba142/hotel-booking\n",
    "\n",
    "https://www.sciencedirect.com/science/article/pii/S2352340918315191\n",
    "\n",
    "Done By \n",
    "- Anna Choo Xin Yi\n",
    "- Filbert\n",
    "- Wesley Djingga\n",
    "- Xie Jianlong\n",
    "- Zhang Jieyuan\n"
   ]
  },
  {
   "cell_type": "markdown",
   "metadata": {},
   "source": [
    "# Import Libraries"
   ]
  },
  {
   "cell_type": "code",
   "execution_count": 1,
   "metadata": {},
   "outputs": [],
   "source": [
    "#Import all here\n",
    "from matplotlib import pyplot\n",
    "from numpy import mean\n",
    "from numpy import std\n",
    "from sklearn import metrics\n",
    "from sklearn.metrics import accuracy_score, confusion_matrix, classification_report\n",
    "from sklearn.metrics import confusion_matrix,accuracy_score\n",
    "from sklearn.metrics import roc_auc_score\n",
    "from sklearn.metrics import roc_curve\n",
    "from sklearn.model_selection import cross_val_score\n",
    "from sklearn.model_selection import KFold\n",
    "from sklearn.neighbors import KNeighborsClassifier\n",
    "from sklearn.preprocessing import OneHotEncoder, StandardScaler\n",
    "import matplotlib.pyplot as plt\n",
    "from sklearn.metrics import confusion_matrix,accuracy_score,f1_score\n",
    "import seaborn as sns\n",
    "import numpy as np\n",
    "import pandas as pd\n",
    "import dill as pickle\n",
    "from sklearn.neighbors import KNeighborsClassifier\n",
    "from sklearn.metrics import classification_report\n",
    "from sklearn.metrics import confusion_matrix\n",
    "import warnings\n",
    "warnings.filterwarnings(\"ignore\")\n",
    "%matplotlib inline\n"
   ]
  },
  {
   "cell_type": "markdown",
   "metadata": {},
   "source": [
    "## Data Retrival"
   ]
  },
  {
   "cell_type": "code",
   "execution_count": 2,
   "metadata": {},
   "outputs": [],
   "source": [
    "x_under_train,x_under_test,y_under_train,y_under_test,x_train,x_test,y_train,y_test = pickle.load(open(\"2.out.x_y_train_test\", 'rb'))"
   ]
  },
  {
   "cell_type": "markdown",
   "metadata": {},
   "source": [
    "## K-Nearest Neighbour"
   ]
  },
  {
   "cell_type": "markdown",
   "metadata": {},
   "source": [
    "### Feature Engineering"
   ]
  },
  {
   "cell_type": "markdown",
   "metadata": {},
   "source": [
    "### Train my hot encoder"
   ]
  },
  {
   "cell_type": "code",
   "execution_count": 3,
   "metadata": {},
   "outputs": [],
   "source": [
    "#Take from Forest\n",
    "enc = pickle.load(open(\"3a.out.enc\", 'rb'))"
   ]
  },
  {
   "cell_type": "markdown",
   "metadata": {},
   "source": [
    "### Create my knn Transform function"
   ]
  },
  {
   "cell_type": "code",
   "execution_count": 4,
   "metadata": {},
   "outputs": [],
   "source": [
    "forest_transform = pickle.load(open(\"3a.out.forest_transform\", 'rb'))\n",
    "\n",
    "def knn_transform(input_x):\n",
    "    scaler = pickle.load(open(\"3b.out.scaler\", 'rb'))\n",
    "    return scaler.transform(forest_transform(input_x))\n",
    "pickle.dump(knn_transform,open(\"3b.out.knn_transform\",'wb'))"
   ]
  },
  {
   "cell_type": "markdown",
   "metadata": {},
   "source": [
    "### Train my scaler"
   ]
  },
  {
   "cell_type": "code",
   "execution_count": 5,
   "metadata": {},
   "outputs": [],
   "source": [
    "scaler = StandardScaler()\n",
    "scaler.fit(forest_transform(x_train))\n",
    "pickle.dump(scaler,open(\"3b.out.scaler\",'wb'))"
   ]
  },
  {
   "cell_type": "markdown",
   "metadata": {},
   "source": [
    "## Test Default Result"
   ]
  },
  {
   "cell_type": "markdown",
   "metadata": {},
   "source": [
    "### Without Down Sampling"
   ]
  },
  {
   "cell_type": "code",
   "execution_count": 6,
   "metadata": {},
   "outputs": [
    {
     "name": "stdout",
     "output_type": "stream",
     "text": [
      "0.7970575508437906\n",
      "[[12176  2235]\n",
      " [ 2455  6244]]\n",
      "              precision    recall  f1-score   support\n",
      "\n",
      "           0       0.83      0.84      0.84     14411\n",
      "           1       0.74      0.72      0.73      8699\n",
      "\n",
      "    accuracy                           0.80     23110\n",
      "   macro avg       0.78      0.78      0.78     23110\n",
      "weighted avg       0.80      0.80      0.80     23110\n",
      "\n"
     ]
    }
   ],
   "source": [
    "#1m 4.3s\n",
    "# Instantiate and fit the knnClassifier\n",
    "knn = KNeighborsClassifier()\n",
    "knn.fit(knn_transform(x_train), y_train)\n",
    "\n",
    "# Make predictions for the test set\n",
    "y_pred_test_knn = knn.predict(knn_transform(x_test))\n",
    "\n",
    "# # View accuracy score\n",
    "print(accuracy_score(y_test, y_pred_test_knn))\n",
    "\n",
    "# # View confusion matrix for test_knn data and predictions\n",
    "print(confusion_matrix(y_test, y_pred_test_knn))\n",
    "\n",
    "# View the classification report for test_knn data and predictions\n",
    "print(classification_report(y_test, y_pred_test_knn))"
   ]
  },
  {
   "cell_type": "markdown",
   "metadata": {},
   "source": [
    "### With Down Sampling"
   ]
  },
  {
   "cell_type": "code",
   "execution_count": 7,
   "metadata": {},
   "outputs": [
    {
     "name": "stdout",
     "output_type": "stream",
     "text": [
      "0.7667818077144501\n",
      "[[6282 2388]\n",
      " [1663 7037]]\n",
      "              precision    recall  f1-score   support\n",
      "\n",
      "           0       0.79      0.72      0.76      8670\n",
      "           1       0.75      0.81      0.78      8700\n",
      "\n",
      "    accuracy                           0.77     17370\n",
      "   macro avg       0.77      0.77      0.77     17370\n",
      "weighted avg       0.77      0.77      0.77     17370\n",
      "\n"
     ]
    }
   ],
   "source": [
    "#31.4s\n",
    "# Instantiate and fit the knnClassifier\n",
    "knn = KNeighborsClassifier()\n",
    "knn.fit(knn_transform(x_under_train), y_under_train)\n",
    "\n",
    "# Make predictions for the test set\n",
    "y_under_pred_test_knn = knn.predict(knn_transform(x_under_test))\n",
    "\n",
    "# # View accuracy score\n",
    "print(accuracy_score(y_under_test, y_under_pred_test_knn))\n",
    "\n",
    "# # View confusion matrix for test_knn data and predictions\n",
    "print(confusion_matrix(y_under_test, y_under_pred_test_knn))\n",
    "\n",
    "# View the classification report for test_knn data and predictions\n",
    "print(classification_report(y_under_test, y_under_pred_test_knn))"
   ]
  },
  {
   "cell_type": "markdown",
   "metadata": {},
   "source": [
    "## Hyper Parameter Tuning - Using no downsampling"
   ]
  },
  {
   "cell_type": "markdown",
   "metadata": {},
   "source": [
    "### Try different Neighbour"
   ]
  },
  {
   "cell_type": "code",
   "execution_count": 11,
   "metadata": {},
   "outputs": [
    {
     "name": "stdout",
     "output_type": "stream",
     "text": [
      " \n",
      "    For n_neigh of 300\n",
      "    Confusion_matrix:[[13715   696]\n",
      " [ 3394  5305]]\n",
      "    Accuracy: 0.8230203375162267\n",
      "    Classification Report:              precision    recall  f1-score   support\n",
      "\n",
      "           0       0.80      0.95      0.87     14411\n",
      "           1       0.88      0.61      0.72      8699\n",
      "\n",
      "    accuracy                           0.82     23110\n",
      "   macro avg       0.84      0.78      0.80     23110\n",
      "weighted avg       0.83      0.82      0.81     23110\n",
      "\n"
     ]
    }
   ],
   "source": [
    "#2m 43.3s\n",
    "# https://www.analyticsvidhya.com/blog/2018/03/introduction-k-neighbours-algorithm-clustering/\n",
    "n_neigh= [300]\n",
    "acc = [0 for i in range(len(n_neigh))]\n",
    "\n",
    "\n",
    "from sklearn.neighbors import KNeighborsClassifier\n",
    "from sklearn.metrics import classification_report\n",
    "from sklearn.metrics import confusion_matrix\n",
    "\n",
    "for i in range(len(n_neigh)):\n",
    "#Import K NeighborsClassifer\n",
    "    knn = KNeighborsClassifier(n_neighbors = n_neigh[i],weights = 'distance')\n",
    "    knn.fit(knn_transform(x_train), y_train)\n",
    "    predict_KN = knn.predict(knn_transform(x_test))\n",
    "    \n",
    "    acc[i]=metrics.accuracy_score(y_test, predict_KN)\n",
    "    \n",
    "    report = \"\"\" \n",
    "    For n_neigh of {}\n",
    "    Confusion_matrix:{}\n",
    "    Accuracy: {}\n",
    "    Classification Report:{}\"\"\".format(\n",
    "    n_neigh[i],\n",
    "    metrics.confusion_matrix(y_test, predict_KN),\n",
    "    metrics.accuracy_score(y_test, predict_KN),\n",
    "    metrics.classification_report(y_test, predict_KN))\n",
    "    print(report)"
   ]
  },
  {
   "cell_type": "code",
   "execution_count": 15,
   "metadata": {},
   "outputs": [
    {
     "data": {
      "text/plain": [
       "[Text(0.5, 0, 'N Neighbour'), Text(0, 0.5, 'F1 Score')]"
      ]
     },
     "execution_count": 15,
     "metadata": {},
     "output_type": "execute_result"
    },
    {
     "data": {
      "image/png": "[encoded data removed]",
      "text/plain": [
       "<Figure size 360x360 with 1 Axes>"
      ]
     },
     "metadata": {
      "needs_background": "light"
     },
     "output_type": "display_data"
    }
   ],
   "source": [
    "#15m 16.9s  - 2hour\n",
    "# f1sTrain = []\n",
    "# f1sTest = []\n",
    "# maxNeighbor = [x for x in range(1,40,2)]\n",
    "# for n_neighb in maxNeighbor:\n",
    "#     knn = KNeighborsClassifier(n_neighbors = n_neighb,weights = 'distance')\n",
    "#     knn.fit(knn_transform(x_train), y_train)\n",
    "#     y_pred = knn.predict(knn_transform(x_train))\n",
    "#     f1sTrain.append(round(f1_score(y_train, y_pred),6))\n",
    "#     y_pred = knn.predict(knn_transform(x_test))\n",
    "#     f1sTest.append(round(f1_score(y_test, y_pred),6))\n",
    "plt.figure(figsize=(5,5))\n",
    "p = sns.lineplot(data=pd.DataFrame(data={'test': pd.Series(f1sTest, index=maxNeighbor)}))   \n",
    "p.set_title(\"Neighbour vs F1 Score\")\n",
    "p.set( xlabel = \"N Neighbour\", ylabel = \"F1 Score\")\n",
    "\n",
    "#Best Neighbor 17"
   ]
  },
  {
   "cell_type": "markdown",
   "metadata": {},
   "source": [
    "## Final Result -Without Downsampling with Hyperparameter Tuned"
   ]
  },
  {
   "cell_type": "code",
   "execution_count": 20,
   "metadata": {},
   "outputs": [
    {
     "name": "stdout",
     "output_type": "stream",
     "text": [
      " \n",
      "Confusion_matrix:\n",
      "[[12762  1649]\n",
      " [ 2301  6398]]\n",
      "Accuracy: 0.8290783210731285\n",
      "Classification Report:\n",
      "              precision    recall  f1-score   support\n",
      "\n",
      "           0       0.85      0.89      0.87     14411\n",
      "           1       0.80      0.74      0.76      8699\n",
      "\n",
      "    accuracy                           0.83     23110\n",
      "   macro avg       0.82      0.81      0.82     23110\n",
      "weighted avg       0.83      0.83      0.83     23110\n",
      "\n"
     ]
    }
   ],
   "source": [
    "#1m 11s\n",
    "#Import K NeighborsClassifer\n",
    "knn = KNeighborsClassifier(n_neighbors = 17,weights = 'distance')\n",
    "knn.fit(knn_transform(x_train), y_train)\n",
    "predict_KN = knn.predict(knn_transform(x_test))\n",
    "\n",
    "report = \"\"\" \n",
    "Confusion_matrix:\n",
    "{}\n",
    "Accuracy: {}\n",
    "Classification Report:\n",
    "{}\"\"\".format(\n",
    "metrics.confusion_matrix(y_test, predict_KN),\n",
    "metrics.accuracy_score(y_test, predict_KN),\n",
    "metrics.classification_report(y_test, predict_KN))\n",
    "print(report)"
   ]
  },
  {
   "cell_type": "markdown",
   "metadata": {},
   "source": [
    "## Performance Measure"
   ]
  },
  {
   "cell_type": "code",
   "execution_count": 18,
   "metadata": {},
   "outputs": [
    {
     "name": "stdout",
     "output_type": "stream",
     "text": [
      "Accuracy: 0.768 (0.001)\n"
     ]
    }
   ],
   "source": [
    "#2m30s\n",
    "# prepare the cross-validation procedure\n",
    "cv = KFold(n_splits=2, random_state=2021, shuffle=True)\n",
    "# create model\n",
    "model = KNeighborsClassifier(n_neighbors = 17,weights = 'distance')\n",
    "# evaluate model\n",
    "scores = cross_val_score(model, knn_transform(x_train), y_train, scoring='accuracy', cv=cv, n_jobs=-1)\n",
    "# report performance\n",
    "print('Accuracy: %.3f (%.3f)' % (mean(scores), std(scores)))"
   ]
  },
  {
   "cell_type": "markdown",
   "metadata": {},
   "source": [
    "### ROC"
   ]
  },
  {
   "cell_type": "code",
   "execution_count": 21,
   "metadata": {},
   "outputs": [
    {
     "name": "stdout",
     "output_type": "stream",
     "text": [
      "No Skill: ROC AUC=0.500\n",
      "KNN: ROC AUC=0.901\n"
     ]
    },
    {
     "data": {
      "image/png": "[encoded data removed]",
      "text/plain": [
       "<Figure size 432x288 with 1 Axes>"
      ]
     },
     "metadata": {
      "needs_background": "light"
     },
     "output_type": "display_data"
    }
   ],
   "source": [
    "#1m\n",
    "# generate a no skill prediction (majority class)\n",
    "ns_probs = [0 for _ in range(len(y_test))]\n",
    "# fit a model\n",
    "# predict probabilities\n",
    "lr_probs = knn.predict_proba(knn_transform(x_test))\n",
    "# keep probabilities for the positive outcome only\n",
    "lr_probs = lr_probs[:, 1]\n",
    "# calculate scores\n",
    "ns_auc = roc_auc_score(y_test, ns_probs)\n",
    "lr_auc = roc_auc_score(y_test, lr_probs)\n",
    "# summarize scores\n",
    "print('No Skill: ROC AUC=%.3f' % (ns_auc))\n",
    "print('KNN: ROC AUC=%.3f' % (lr_auc))\n",
    "# calculate roc curves\n",
    "ns_fpr, ns_tpr, _ = roc_curve(y_test, ns_probs)\n",
    "lr_fpr, lr_tpr, _ = roc_curve(y_test, lr_probs)\n",
    "# plot the roc curve for the model\n",
    "pyplot.plot(ns_fpr, ns_tpr, linestyle='--', label='No Skill')\n",
    "pyplot.plot(lr_fpr, lr_tpr, marker='.', label='KNN')\n",
    "# axis labels\n",
    "pyplot.xlabel('False Positive Rate')\n",
    "pyplot.ylabel('True Positive Rate')\n",
    "# show the legend\n",
    "pyplot.legend()\n",
    "# show the plot\n",
    "pyplot.show()"
   ]
  },
  {
   "cell_type": "markdown",
   "metadata": {},
   "source": [
    "## Export"
   ]
  },
  {
   "cell_type": "code",
   "execution_count": 22,
   "metadata": {},
   "outputs": [],
   "source": [
    "pickle.dump(knn, open('3b.out.knn', 'wb'))"
   ]
  }
 ],
 "metadata": {
  "kernelspec": {
   "display_name": "Python 3",
   "language": "python",
   "name": "python3"
  },
  "language_info": {
   "codemirror_mode": {
    "name": "ipython",
    "version": 3
   },
   "file_extension": ".py",
   "mimetype": "text/x-python",
   "name": "python",
   "nbconvert_exporter": "python",
   "pygments_lexer": "ipython3",
   "version": "3.9.7"
  }
 },
 "nbformat": 4,
 "nbformat_minor": 2
}
