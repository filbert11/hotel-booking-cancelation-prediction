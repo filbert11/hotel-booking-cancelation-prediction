{
 "cells": [
  {
   "cell_type": "markdown",
   "metadata": {},
   "source": [
    "# ISSS610-Applied Machine Learning\n",
    "## Business Problem\n",
    "The data is originally from the article Hotel Booking Demand Datasets, written by Nuno Antonio, Ana Almeida, and Luis Nunes for Data in Brief, Volume 22, February 2019.\n",
    "\n",
    "# Data Set\n",
    "This dataset contains 119390 observations for a City Hotel and a Resort Hotel. Each observation represents a hotel booking between the 1st of July 2015 and 31st of August 2017, including booking that effectively arrived and booking that were canceled.\n",
    "\n",
    "https://www.sciencedirect.com/science/article/pii/S2352340918315191\n",
    "\n",
    "Done By \n",
    "- Anna Choo Xin Yi\n",
    "- Filbert\n",
    "- Wesley Djingga\n",
    "- Xie Jianlong\n",
    "- Zhang Jieyuan\n"
   ]
  },
  {
   "cell_type": "markdown",
   "metadata": {},
   "source": [
    "# Import Libraries"
   ]
  },
  {
   "cell_type": "code",
   "execution_count": 56,
   "metadata": {},
   "outputs": [],
   "source": [
    "#Import all here\n",
    "from matplotlib import pyplot\n",
    "from numpy import mean\n",
    "from numpy import std\n",
    "from sklearn import metrics\n",
    "from sklearn.metrics import accuracy_score, confusion_matrix, classification_report\n",
    "from sklearn.metrics import confusion_matrix,accuracy_score\n",
    "from sklearn.metrics import roc_auc_score\n",
    "from sklearn.metrics import roc_curve\n",
    "from sklearn.model_selection import cross_val_score\n",
    "from sklearn.model_selection import KFold\n",
    "from sklearn.naive_bayes import GaussianNB\n",
    "from sklearn.naive_bayes import MultinomialNB\n",
    "from sklearn.preprocessing import OneHotEncoder, MinMaxScaler\n",
    "import numpy as np\n",
    "import pandas as pd\n",
    "import dill as pickle\n",
    "from sklearn.metrics import classification_report\n",
    "from sklearn.metrics import confusion_matrix\n",
    "from os.path import exists\n",
    "import seaborn as sns\n",
    "import warnings\n",
    "warnings.filterwarnings(\"ignore\")\n",
    "%matplotlib inline\n"
   ]
  },
  {
   "cell_type": "markdown",
   "metadata": {},
   "source": [
    "## Data Retrival"
   ]
  },
  {
   "cell_type": "code",
   "execution_count": 28,
   "metadata": {},
   "outputs": [],
   "source": [
    "x_under_train,x_under_test,y_under_train,y_under_test,x_train,x_test,y_train,y_test = pickle.load(open(\"2.out.x_y_train_test\", 'rb'))"
   ]
  },
  {
   "cell_type": "markdown",
   "metadata": {},
   "source": [
    "## Naive Bayes"
   ]
  },
  {
   "cell_type": "markdown",
   "metadata": {},
   "source": [
    "### Load my NB Transform function"
   ]
  },
  {
   "cell_type": "code",
   "execution_count": 29,
   "metadata": {},
   "outputs": [],
   "source": [
    "forest_transform = pickle.load(open(\"3a.out.forest_transform\", 'rb'))\n",
    "knn_transform = pickle.load(open(\"3b.out.knn_transform\", 'rb'))\n",
    "nb_transform = forest_transform\n"
   ]
  },
  {
   "cell_type": "markdown",
   "metadata": {},
   "source": [
    "## Test Default Result"
   ]
  },
  {
   "cell_type": "markdown",
   "metadata": {},
   "source": [
    "### Without Down Sampling - No feature Engineering"
   ]
  },
  {
   "cell_type": "code",
   "execution_count": 30,
   "metadata": {},
   "outputs": [
    {
     "name": "stdout",
     "output_type": "stream",
     "text": [
      "0.46430116832540025\n",
      "[[ 2349 12062]\n",
      " [  318  8381]]\n",
      "              precision    recall  f1-score   support\n",
      "\n",
      "           0       0.88      0.16      0.28     14411\n",
      "           1       0.41      0.96      0.58      8699\n",
      "\n",
      "    accuracy                           0.46     23110\n",
      "   macro avg       0.65      0.56      0.43     23110\n",
      "weighted avg       0.70      0.46      0.39     23110\n",
      "\n"
     ]
    }
   ],
   "source": [
    "# Instantiate and fit the gnbClassifier\n",
    "gnb = GaussianNB()\n",
    "\n",
    "gnb.fit(nb_transform(x_train), y_train)\n",
    "\n",
    "# Make predictions for the test set\n",
    "y_pred_test_gnb = gnb.predict(nb_transform(x_test))\n",
    "\n",
    "# # View accuracy score\n",
    "print(accuracy_score(y_test, y_pred_test_gnb))\n",
    "\n",
    "# # View confusion matrix for test_gnb data and predictions\n",
    "print(confusion_matrix(y_test, y_pred_test_gnb))\n",
    "\n",
    "# View the classification report for test_gnb data and predictions\n",
    "print(classification_report(y_test, y_pred_test_gnb))"
   ]
  },
  {
   "cell_type": "markdown",
   "metadata": {},
   "source": [
    "### With Down Sampling - No Feature Engineering"
   ]
  },
  {
   "cell_type": "code",
   "execution_count": 31,
   "metadata": {},
   "outputs": [
    {
     "name": "stdout",
     "output_type": "stream",
     "text": [
      "0.5716753022452504\n",
      "[[1564 7106]\n",
      " [ 334 8366]]\n",
      "              precision    recall  f1-score   support\n",
      "\n",
      "           0       0.82      0.18      0.30      8670\n",
      "           1       0.54      0.96      0.69      8700\n",
      "\n",
      "    accuracy                           0.57     17370\n",
      "   macro avg       0.68      0.57      0.49     17370\n",
      "weighted avg       0.68      0.57      0.49     17370\n",
      "\n"
     ]
    }
   ],
   "source": [
    "# Instantiate and fit the gnbClassifier\n",
    "gnb = GaussianNB()\n",
    "\n",
    "gnb.fit(nb_transform(x_under_train), y_under_train)\n",
    "# Make predictions for the test set\n",
    "y_under_pred_test_gnb = gnb.predict(nb_transform(x_under_test))\n",
    "\n",
    "# # View accuracy score\n",
    "print(accuracy_score(y_under_test, y_under_pred_test_gnb))\n",
    "\n",
    "# # View confusion matrix for test_gnb data and predictions\n",
    "print(confusion_matrix(y_under_test, y_under_pred_test_gnb))\n",
    "\n",
    "# View the classification report for test_gnb data and predictions\n",
    "print(classification_report(y_under_test, y_under_pred_test_gnb))"
   ]
  },
  {
   "cell_type": "markdown",
   "metadata": {},
   "source": [
    "## Feature Engineering - Using no downsampling"
   ]
  },
  {
   "cell_type": "markdown",
   "metadata": {},
   "source": [
    "### Do new NB Transform here"
   ]
  },
  {
   "cell_type": "markdown",
   "metadata": {},
   "source": [
    "### Train Hot Encoder"
   ]
  },
  {
   "cell_type": "code",
   "execution_count": 32,
   "metadata": {},
   "outputs": [],
   "source": [
    "data = x_train\n",
    "\n",
    "# Replace NULL values with whitespace to NaN\n",
    "data.replace(r'.*NULL',np.NaN,regex=True,inplace=True)\n",
    "# Convert country to region using Country_Region file\n",
    "region = pd.read_csv('3e.in.country_region.csv')\n",
    "\n",
    "region['region'] = np.where(region['region'].isna(), region['name'], region['region'])\n",
    "region2 = region[['alpha-3', 'region']]\n",
    "region2.columns = ['Country', 'Region1']\n",
    "region3 = region[['alpha-2','region']]\n",
    "region3.columns = ['Country', 'Region2']\n",
    "data = data.merge(region2, how='left')\n",
    "data = data.merge(region3, how='left')\n",
    "data['Region'] = np.where(data['Region1'].isna(), data['Region2'], data['Region1'])\n",
    "data['Region'] = np.where(data['Country']=='TMP', 'Asia', data['Region'])\n",
    "data.drop(['Region1', 'Region2'], axis=1, inplace=True)\n",
    "\n",
    "# Add rows\n",
    "data['TotalStay'] = data['StaysInWeekendNights'] + data['StaysInWeekNights']\n",
    "data['SameRoomAssigned'] = np.where(data['ReservedRoomType']==data['AssignedRoomType'], 1, 0)\n",
    "\n",
    "# Drop rows\n",
    "data.drop(['Country'], axis=1, inplace=True)\n",
    "data.drop(['StaysInWeekNights'], axis=1, inplace=True)\n",
    "\n",
    "# Convert binary \n",
    "data['Hotel'] = np.where(data['Hotel']=='H1', 0, 1)\n",
    "\n",
    "binary_col = ['Children', 'Babies', 'PreviousCancellations', 'PreviousBookingsNotCanceled', 'BookingChanges', 'Agent', 'Company', 'DaysInWaitingList']\n",
    "for i in binary_col:\n",
    "    data[i] = np.where((data[i].isna()) | (data[i]==0), 0, 1)\n",
    "\n",
    "col = ['ArrivalDateWeekNumber', 'Adults', 'Children', 'Babies', 'IsRepeatedGuest', 'PreviousCancellations', 'PreviousBookingsNotCanceled',\n",
    "        'SameRoomAssigned', 'BookingChanges', 'Agent', 'Company', 'DaysInWaitingList', 'Hotel']\n",
    "\n",
    "data[col] = data[col].astype('object')\n",
    "categorical_non_ohe = ['Children','Babies','IsRepeatedGuest','PreviousCancellations','PreviousBookingsNotCanceled','BookingChanges','Agent','Company','DaysInWaitingList','Hotel','SameRoomAssigned']\n",
    "categorical_ohe = ['ArrivalDateWeekNumber','Adults','Meal','MarketSegment','DistributionChannel','ReservedRoomType','AssignedRoomType','DepositType','CustomerType','Region']\n",
    "numerical = ['LeadTime','StaysInWeekendNights','ADR','TotalOfSpecialRequests','TotalStay']\n",
    "#categorical = ['ArrivalDateWeekNumber', 'Meal', 'Country', 'MarketSegment', 'DistributionChannel', 'ReservedRoomType', 'AssignedRoomType', 'DepositType', 'Agent', 'Company', 'CustomerType', 'Hotel']\n",
    "# numerical = ['LeadTime', 'StaysInWeekendNights', 'StaysInWeekNights', 'Adults', 'Children', 'Babies', 'IsRepeatedGuest', 'PreviousCancellations', 'PreviousBookingsNotCanceled', 'BookingChanges', 'DaysInWaitingList', 'ADR', 'TotalOfSpecialRequests']\n",
    "categorical_ohe = ['ArrivalDateWeekNumber','Adults','Meal','MarketSegment','DistributionChannel','ReservedRoomType','AssignedRoomType','DepositType','CustomerType','Region']\n",
    "#Prepare HotEncoder - To change categorical into 1,0\n",
    "enc = OneHotEncoder(handle_unknown = 'ignore')\n",
    "\n",
    "#This are column that are categorical\n",
    "enc.fit(data[categorical_ohe])\n",
    "#feature_name = enc.get_feature_names(x_train[categorical].columns)\n",
    "# x_train_one_hot_data = enc.fit_transform(x_train[categorical]).toarray()\n",
    "# x_train_one_hot_data_df= pd.DataFrame(x_train_one_hot_data)# columns= feature_name\n",
    "# x_train_one_hot_data = pd.concat([x_train_one_hot_data_df, x_train[numerical].reset_index(drop=True),], axis=1)\n",
    "\n",
    "pickle.dump(enc,open(\"3e.out.enc\",'wb'))\n",
    "\n",
    "\n"
   ]
  },
  {
   "cell_type": "code",
   "execution_count": 33,
   "metadata": {},
   "outputs": [],
   "source": [
    "#Do new NB Transform here\n",
    "\n",
    "def nb_transform2(input_x):\n",
    "\n",
    "    enc = pickle.load(open(\"3e.out.enc\", 'rb'))\n",
    "    data = input_x.copy(deep=True)\n",
    "\n",
    "    # Replace NULL values with whitespace to NaN\n",
    "    data.replace(r'.*NULL',np.NaN,regex=True,inplace=True)\n",
    "    # Convert country to region using Country_Region file\n",
    "    region = pd.read_csv('3e.in.country_region.csv')\n",
    "\n",
    "    region['region'] = np.where(region['region'].isna(), region['name'], region['region'])\n",
    "    region2 = region[['alpha-3', 'region']]\n",
    "    region2.columns = ['Country', 'Region1']\n",
    "    region3 = region[['alpha-2','region']]\n",
    "    region3.columns = ['Country', 'Region2']\n",
    "    data = data.merge(region2, how='left')\n",
    "    data = data.merge(region3, how='left')\n",
    "    data['Region'] = np.where(data['Region1'].isna(), data['Region2'], data['Region1'])\n",
    "    data['Region'] = np.where(data['Country']=='TMP', 'Asia', data['Region'])\n",
    "    data.drop(['Region1', 'Region2'], axis=1, inplace=True)\n",
    "    \n",
    "    # Add rows\n",
    "    data['TotalStay'] = data['StaysInWeekendNights'] + data['StaysInWeekNights']\n",
    "    data['SameRoomAssigned'] = np.where(data['ReservedRoomType']==data['AssignedRoomType'], 1, 0)\n",
    "    \n",
    "    # Drop rows\n",
    "    data.drop(['Country'], axis=1, inplace=True)\n",
    "    data.drop(['StaysInWeekNights'], axis=1, inplace=True)\n",
    "    \n",
    "    # Convert binary \n",
    "    data['Hotel'] = np.where(data['Hotel']=='H1', 0, 1)\n",
    "    \n",
    "    binary_col = ['Children', 'Babies', 'PreviousCancellations', 'PreviousBookingsNotCanceled', 'BookingChanges', 'Agent', 'Company', 'DaysInWaitingList']\n",
    "    for i in binary_col:\n",
    "        data[i] = np.where((data[i].isna()) | (data[i]==0), 0, 1)\n",
    "    \n",
    "    col = ['ArrivalDateWeekNumber', 'Adults', 'Children', 'Babies', 'IsRepeatedGuest', 'PreviousCancellations', 'PreviousBookingsNotCanceled',\n",
    "           'SameRoomAssigned', 'BookingChanges', 'Agent', 'Company', 'DaysInWaitingList', 'Hotel']\n",
    "    \n",
    "    data[col] = data[col].astype('object')\n",
    "    categorical_non_ohe = ['Children','Babies','IsRepeatedGuest','PreviousCancellations','PreviousBookingsNotCanceled','BookingChanges','Agent','Company','DaysInWaitingList','Hotel','SameRoomAssigned']\n",
    "    categorical_ohe = ['ArrivalDateWeekNumber','Adults','Meal','MarketSegment','DistributionChannel','ReservedRoomType','AssignedRoomType','DepositType','CustomerType','Region']\n",
    "    numerical = ['LeadTime','StaysInWeekendNights','ADR','TotalOfSpecialRequests','TotalStay']\n",
    "    input_x_one_hot_data = enc.transform(data[categorical_ohe]).toarray()\n",
    "    input_x_one_hot_data_df= pd.DataFrame(input_x_one_hot_data)\n",
    "    input_x_one_hot_data = pd.concat([input_x_one_hot_data_df, data[categorical_non_ohe].reset_index(drop=True),], axis=1)\n",
    "    input_x_one_hot_data = pd.concat([input_x_one_hot_data, data[numerical].reset_index(drop=True),], axis=1)\n",
    "    return input_x_one_hot_data\n",
    "    # scaler = pickle.load(open(\"3b.out.scaler\", 'rb'))\n",
    "    # return scaler.transform(forest_transform(input_x))\n",
    "def nb_scale_transform2(input_x):\n",
    "    scaler = pickle.load(open(\"3e.out.scaler\", 'rb'))\n",
    "    data = nb_transform2(input_x)\n",
    "    numerical = ['LeadTime','StaysInWeekendNights','ADR','TotalOfSpecialRequests','TotalStay']\n",
    "    scaled = scaler.transform(data[numerical])\n",
    "    scaledDF = pd.DataFrame(scaled)\n",
    "    scaledDf = scaledDF.reset_index(drop=True)\n",
    "    input_x_one_hot_data = pd.concat([data.drop(numerical, axis=1), scaledDF,], axis=1)\n",
    "    \n",
    "    return input_x_one_hot_data\n",
    "pickle.dump(nb_transform2,open(\"3e.out.nb_transform\",'wb')) \n",
    "pickle.dump(nb_scale_transform2,open(\"3e.out.nb_scale_transform\",'wb')) \n",
    "\n",
    "\n",
    "nb_transform2 = pickle.load(open(\"3e.out.nb_transform\", 'rb'))\n",
    "scaler = MinMaxScaler()\n",
    "numerical = ['LeadTime','StaysInWeekendNights','ADR','TotalOfSpecialRequests','TotalStay']\n",
    "#This are column that are categorical\n",
    "scaler.fit(nb_transform2(x_train)[numerical])\n",
    "#feature_name = enc.get_feature_names(x_train[categorical].columns)\n",
    "# x_train_one_hot_data = enc.fit_transform(x_train[categorical]).toarray()\n",
    "# x_train_one_hot_data_df= pd.DataFrame(x_train_one_hot_data)# columns= feature_name\n",
    "# x_train_one_hot_data = pd.concat([x_train_one_hot_data_df, x_train[numerical].reset_index(drop=True),], axis=1)\n",
    "\n",
    "pickle.dump(scaler,open(\"3e.out.scaler\",'wb'))"
   ]
  },
  {
   "cell_type": "markdown",
   "metadata": {},
   "source": [
    "## Final Result -Without Downsampling with Feature Engineering Tuned"
   ]
  },
  {
   "cell_type": "code",
   "execution_count": 34,
   "metadata": {},
   "outputs": [
    {
     "name": "stdout",
     "output_type": "stream",
     "text": [
      " \n",
      "Confusion_matrix:\n",
      "[[12944  1467]\n",
      " [ 4289  4410]]\n",
      "Accuracy: 0.7509303331890956\n",
      "Classification Report:\n",
      "              precision    recall  f1-score   support\n",
      "\n",
      "           0       0.75      0.90      0.82     14411\n",
      "           1       0.75      0.51      0.61      8699\n",
      "\n",
      "    accuracy                           0.75     23110\n",
      "   macro avg       0.75      0.70      0.71     23110\n",
      "weighted avg       0.75      0.75      0.74     23110\n",
      "\n"
     ]
    }
   ],
   "source": [
    "# Instantiate and fit the mnb Classifier\n",
    "mnb = MultinomialNB()\n",
    "\n",
    "mnb.fit(nb_scale_transform2(x_train), y_train)\n",
    "\n",
    "# Make predictions for the test set\n",
    "y_pred_test_gnb = mnb.predict(nb_scale_transform2(x_test))\n",
    "\n",
    "report = \"\"\" \n",
    "Confusion_matrix:\n",
    "{}\n",
    "Accuracy: {}\n",
    "Classification Report:\n",
    "{}\"\"\".format(\n",
    "metrics.confusion_matrix(y_test, y_pred_test_gnb),\n",
    "metrics.accuracy_score(y_test, y_pred_test_gnb),\n",
    "metrics.classification_report(y_test, y_pred_test_gnb))\n",
    "print(report)"
   ]
  },
  {
   "cell_type": "markdown",
   "metadata": {},
   "source": [
    "## Performance Measure"
   ]
  },
  {
   "cell_type": "code",
   "execution_count": 35,
   "metadata": {},
   "outputs": [
    {
     "name": "stdout",
     "output_type": "stream",
     "text": [
      "Accuracy: 0.752 (0.002)\n"
     ]
    }
   ],
   "source": [
    "# prepare the cross-validation procedure\n",
    "cv = KFold(n_splits=5, random_state=2021, shuffle=True)\n",
    "# create model\n",
    "model = MultinomialNB()\n",
    "# evaluate model\n",
    "scores = cross_val_score(model, nb_scale_transform2(x_train), y_train, scoring='accuracy', cv=cv, n_jobs=-1)\n",
    "# report performance\n",
    "print('Accuracy: %.3f (%.3f)' % (mean(scores), std(scores)))"
   ]
  },
  {
   "cell_type": "markdown",
   "metadata": {},
   "source": [
    "### ROC"
   ]
  },
  {
   "cell_type": "code",
   "execution_count": 36,
   "metadata": {},
   "outputs": [
    {
     "name": "stdout",
     "output_type": "stream",
     "text": [
      "No Skill: ROC AUC=0.500\n",
      "Multinomial Naive Bayes: ROC AUC=0.777\n"
     ]
    },
    {
     "data": {
      "image/png": "[encoded data removed]",
      "text/plain": [
       "<Figure size 432x288 with 1 Axes>"
      ]
     },
     "metadata": {
      "needs_background": "light"
     },
     "output_type": "display_data"
    }
   ],
   "source": [
    "# generate a no skill prediction (majority class)\n",
    "ns_probs = [0 for _ in range(len(y_test))]\n",
    "# fit a model\n",
    "# predict probabilities\n",
    "lr_probs = mnb.predict_proba(nb_scale_transform2(x_test))\n",
    "# keep probabilities for the positive outcome only\n",
    "lr_probs = lr_probs[:, 1]\n",
    "# calculate scores\n",
    "ns_auc = roc_auc_score(y_test, ns_probs)\n",
    "lr_auc = roc_auc_score(y_test, lr_probs)\n",
    "# summarize scores\n",
    "print('No Skill: ROC AUC=%.3f' % (ns_auc))\n",
    "print('Multinomial Naive Bayes: ROC AUC=%.3f' % (lr_auc))\n",
    "# calculate roc curves\n",
    "ns_fpr, ns_tpr, _ = roc_curve(y_test, ns_probs)\n",
    "lr_fpr, lr_tpr, _ = roc_curve(y_test, lr_probs)\n",
    "# plot the roc curve for the model\n",
    "pyplot.plot(ns_fpr, ns_tpr, linestyle='--', label='No Skill')\n",
    "pyplot.plot(lr_fpr, lr_tpr, marker='.', label='Multinomial Naive Bayes')\n",
    "# axis labels\n",
    "pyplot.xlabel('False Positive Rate')\n",
    "pyplot.ylabel('True Positive Rate')\n",
    "# show the legend\n",
    "pyplot.legend()\n",
    "# show the plot\n",
    "pyplot.show()"
   ]
  },
  {
   "cell_type": "markdown",
   "metadata": {},
   "source": [
    "## Export"
   ]
  },
  {
   "cell_type": "code",
   "execution_count": 37,
   "metadata": {},
   "outputs": [],
   "source": [
    "pickle.dump(mnb, open('3e.out.mnb', 'wb'))"
   ]
  },
  {
   "cell_type": "code",
   "execution_count": null,
   "metadata": {},
   "outputs": [],
   "source": []
  }
 ],
 "metadata": {
  "kernelspec": {
   "display_name": "Python 3",
   "language": "python",
   "name": "python3"
  },
  "language_info": {
   "codemirror_mode": {
    "name": "ipython",
    "version": 3
   },
   "file_extension": ".py",
   "mimetype": "text/x-python",
   "name": "python",
   "nbconvert_exporter": "python",
   "pygments_lexer": "ipython3",
   "version": "3.8.8"
  }
 },
 "nbformat": 4,
 "nbformat_minor": 4
}
